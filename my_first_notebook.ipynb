{
 "cells": [
  {
   "cell_type": "markdown",
   "id": "24ec1f1f",
   "metadata": {},
   "source": [
    "# My First Jupyter Notebook\n",
    "This is an obscure reference to the song I think of every time I use a Jupyter notebook: [\"Jupiter\" by Haiku Hands.](https://www.youtube.com/watch?v=U_UpXTmTric)"
   ]
  },
  {
   "cell_type": "markdown",
   "metadata": {},
   "source": [
    "## Some Jupyter shortcuts:\n",
    "* D D deletes a cell\n",
    "* A inserts a cell above\n",
    "* B inserts a cell below"
   ]
  },
  {
   "cell_type": "code",
   "execution_count": null,
   "id": "f1ff2eea",
   "metadata": {},
   "outputs": [],
   "source": [
    "def oneTwoThree(repeat):\n",
    "    for i in range(0,repeat):\n",
    "        print(\"1,2,3\\n\")\n",
    "oneTwoThree(2)\n",
    "print(\"UH!\\n\")\n",
    "oneTwoThree(1)\n",
    "print(\"AIR PUNCH!\\n\")\n",
    "oneTwoThree(2)\n",
    "print(\"UH!\\n\")\n",
    "oneTwoThree(1)\n",
    "print(\"FIST PUMP!\\n\")\n"
   ]
  },
  {
   "cell_type": "code",
   "execution_count": null,
   "id": "b283568d",
   "metadata": {},
   "outputs": [],
   "source": [
    "for i in range(0,3):\n",
    "    print(\"Oh,\")\n",
    "    \n",
    "else:\n",
    "    #This is a vestigial part of python\n",
    "    #you shouldn't use it\n",
    "    print(\"Jupyter\")"
   ]
  },
  {
   "cell_type": "code",
   "execution_count": 9,
   "id": "3c4a4da7",
   "metadata": {},
   "outputs": [
    {
     "name": "stdout",
     "output_type": "stream",
     "text": [
      "We're taking off at hyperspeed don't hold us back\n",
      "\n",
      "We're taking off at hyperspeed don't hold us back\n",
      "\n",
      "We're taking off at hyperspeed don't hold us back\n",
      "\n",
      "back\n",
      "\n",
      "back\n",
      "\n",
      "back\n",
      "\n",
      "*record scratch*\n"
     ]
    }
   ],
   "source": [
    "takingWhat = \"off\"\n",
    "whatSpeed = \"hyperspeed\"\n",
    "holdWhere = \"back\"\n",
    "for i in range(0,3):\n",
    "    print(f\"We're taking {takingWhat} at {whatSpeed} don't hold us {holdWhere}\\n\")\n",
    "for i in range(0,3):\n",
    "    print(holdWhere + \"\\n\")\n",
    "print(\"*record scratch*\")\n",
    "\n"
   ]
  }
 ],
 "metadata": {
  "kernelspec": {
   "display_name": "Python 3 (ipykernel)",
   "language": "python",
   "name": "python3"
  },
  "language_info": {
   "codemirror_mode": {
    "name": "ipython",
    "version": 3
   },
   "file_extension": ".py",
   "mimetype": "text/x-python",
   "name": "python",
   "nbconvert_exporter": "python",
   "pygments_lexer": "ipython3",
   "version": "3.9.12"
  },
  "vscode": {
   "interpreter": {
    "hash": "aee8b7b246df8f9039afb4144a1f6fd8d2ca17a180786b69acc140d282b71a49"
   }
  }
 },
 "nbformat": 4,
 "nbformat_minor": 5
}
